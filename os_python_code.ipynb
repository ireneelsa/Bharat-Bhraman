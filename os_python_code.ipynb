{
  "nbformat": 4,
  "nbformat_minor": 0,
  "metadata": {
    "colab": {
      "provenance": [],
      "include_colab_link": true
    },
    "kernelspec": {
      "name": "python3",
      "display_name": "Python 3"
    },
    "language_info": {
      "name": "python"
    }
  },
  "cells": [
    {
      "cell_type": "markdown",
      "metadata": {
        "id": "view-in-github",
        "colab_type": "text"
      },
      "source": [
        "<a href=\"https://colab.research.google.com/github/ireneelsa/Bharat-Bhraman/blob/main/os_python_code.ipynb\" target=\"_parent\"><img src=\"https://colab.research.google.com/assets/colab-badge.svg\" alt=\"Open In Colab\"/></a>"
      ]
    },
    {
      "cell_type": "code",
      "source": [
        "class Device:\n",
        "    def __init__(self, ip, healthy):\n",
        "        self.ip = ip\n",
        "        self.healthy = healthy\n",
        "\n",
        "devices = []\n",
        "\n",
        "def add_device(ip, healthy):\n",
        "    device = Device(ip, healthy)\n",
        "    devices.append(device)\n",
        "\n",
        "def remove_device(ip):\n",
        "    global devices\n",
        "    devices = [device for device in devices if device.ip != ip]\n",
        "\n",
        "def is_device_allowed(ip):\n",
        "    device = [device for device in devices if device.ip == ip]\n",
        "    if device and device[0].healthy:\n",
        "        return True\n",
        "    return False\n",
        "\n",
        "def check_device_health(ip):\n",
        "    device = [device for device in devices if device.ip == ip]\n",
        "    if device:\n",
        "        return device[0].healthy\n",
        "    return False"
      ],
      "metadata": {
        "id": "F5faFQXVuwT9"
      },
      "execution_count": null,
      "outputs": []
    },
    {
      "cell_type": "code",
      "source": [
        "def check_device_health(ip):\n",
        "    # Assuming we have a list of devices and their health statuses\n",
        "    healthy_devices = ['192.168.1.1', '192.168.1.2', '192.168.1.3']\n",
        "    return ip in healthy_devices"
      ],
      "metadata": {
        "id": "xk634cCLuztq"
      },
      "execution_count": null,
      "outputs": []
    },
    {
      "cell_type": "code",
      "source": [
        "while True:\n",
        "    print(\"\\nChoose an option:\")\n",
        "    print(\"1. Add a device\")\n",
        "    print(\"2. Remove a device\")\n",
        "    print(\"3. Check if a device is allowed to access the network\")\n",
        "    print(\"4. Check the health of a device\")\n",
        "    print(\"5. Monitor network activity for suspicious behavior\")\n",
        "    print(\"6. Exit\")\n",
        "\n",
        "    option = input(\"Enter the number of your option: \")\n",
        "\n",
        "    if option == '1':\n",
        "        ip = input(\"Enter the IP address of the device: \")\n",
        "        healthy = input(\"Is the device healthy? (yes/no): \")\n",
        "        add_device(ip, healthy.lower() == 'yes')\n",
        "    elif option == '2':\n",
        "        ip = input(\"Enter the IP address of the device: \")\n",
        "        remove_device(ip)\n",
        "    elif option == '3':\n",
        "        ip = input(\"Enter the IP address of the device: \")\n",
        "        print(\"Is the device allowed to access the network?\", is_device_allowed(ip))\n",
        "    elif option == '4':\n",
        "        ip = input(\"Enter the IP address of the device: \")\n",
        "        print(\"Is the device healthy?\", check_device_health(ip))\n",
        "    elif option == '5':\n",
        "        monitor_network_activity()\n",
        "    elif option == '6':\n",
        "        break\n",
        "    else:\n",
        "        print(\"Invalid option. Please try again.\")"
      ],
      "metadata": {
        "colab": {
          "base_uri": "https://localhost:8080/",
          "height": 1000
        },
        "id": "vUlmIV8Au6G7",
        "outputId": "c146fbe2-a1c5-434b-d39b-5b75315148e5"
      },
      "execution_count": null,
      "outputs": [
        {
          "output_type": "stream",
          "name": "stdout",
          "text": [
            "\n",
            "Choose an option:\n",
            "1. Add a device\n",
            "2. Remove a device\n",
            "3. Check if a device is allowed to access the network\n",
            "4. Check the health of a device\n",
            "5. Monitor network activity for suspicious behavior\n",
            "6. Exit\n",
            "Enter the number of your option: 3\n",
            "Enter the IP address of the device: 192.168.1.1\n",
            "Is the device allowed to access the network? False\n",
            "\n",
            "Choose an option:\n",
            "1. Add a device\n",
            "2. Remove a device\n",
            "3. Check if a device is allowed to access the network\n",
            "4. Check the health of a device\n",
            "5. Monitor network activity for suspicious behavior\n",
            "6. Exit\n",
            "Enter the number of your option: 1\n",
            "Enter the IP address of the device: 123.123.12\n",
            "Is the device healthy? (yes/no): no\n",
            "\n",
            "Choose an option:\n",
            "1. Add a device\n",
            "2. Remove a device\n",
            "3. Check if a device is allowed to access the network\n",
            "4. Check the health of a device\n",
            "5. Monitor network activity for suspicious behavior\n",
            "6. Exit\n",
            "Enter the number of your option: 4\n",
            "Enter the IP address of the device: 123.123.12\n",
            "Is the device healthy? False\n",
            "\n",
            "Choose an option:\n",
            "1. Add a device\n",
            "2. Remove a device\n",
            "3. Check if a device is allowed to access the network\n",
            "4. Check the health of a device\n",
            "5. Monitor network activity for suspicious behavior\n",
            "6. Exit\n"
          ]
        },
        {
          "output_type": "error",
          "ename": "KeyboardInterrupt",
          "evalue": "ignored",
          "traceback": [
            "\u001b[0;31m---------------------------------------------------------------------------\u001b[0m",
            "\u001b[0;31mKeyboardInterrupt\u001b[0m                         Traceback (most recent call last)",
            "\u001b[0;32m<ipython-input-10-1fe6245de176>\u001b[0m in \u001b[0;36m<cell line: 1>\u001b[0;34m()\u001b[0m\n\u001b[1;32m      8\u001b[0m     \u001b[0mprint\u001b[0m\u001b[0;34m(\u001b[0m\u001b[0;34m\"6. Exit\"\u001b[0m\u001b[0;34m)\u001b[0m\u001b[0;34m\u001b[0m\u001b[0;34m\u001b[0m\u001b[0m\n\u001b[1;32m      9\u001b[0m \u001b[0;34m\u001b[0m\u001b[0m\n\u001b[0;32m---> 10\u001b[0;31m     \u001b[0moption\u001b[0m \u001b[0;34m=\u001b[0m \u001b[0minput\u001b[0m\u001b[0;34m(\u001b[0m\u001b[0;34m\"Enter the number of your option: \"\u001b[0m\u001b[0;34m)\u001b[0m\u001b[0;34m\u001b[0m\u001b[0;34m\u001b[0m\u001b[0m\n\u001b[0m\u001b[1;32m     11\u001b[0m \u001b[0;34m\u001b[0m\u001b[0m\n\u001b[1;32m     12\u001b[0m     \u001b[0;32mif\u001b[0m \u001b[0moption\u001b[0m \u001b[0;34m==\u001b[0m \u001b[0;34m'1'\u001b[0m\u001b[0;34m:\u001b[0m\u001b[0;34m\u001b[0m\u001b[0;34m\u001b[0m\u001b[0m\n",
            "\u001b[0;32m/usr/local/lib/python3.10/dist-packages/ipykernel/kernelbase.py\u001b[0m in \u001b[0;36mraw_input\u001b[0;34m(self, prompt)\u001b[0m\n\u001b[1;32m    849\u001b[0m                 \u001b[0;34m\"raw_input was called, but this frontend does not support input requests.\"\u001b[0m\u001b[0;34m\u001b[0m\u001b[0;34m\u001b[0m\u001b[0m\n\u001b[1;32m    850\u001b[0m             )\n\u001b[0;32m--> 851\u001b[0;31m         return self._input_request(str(prompt),\n\u001b[0m\u001b[1;32m    852\u001b[0m             \u001b[0mself\u001b[0m\u001b[0;34m.\u001b[0m\u001b[0m_parent_ident\u001b[0m\u001b[0;34m,\u001b[0m\u001b[0;34m\u001b[0m\u001b[0;34m\u001b[0m\u001b[0m\n\u001b[1;32m    853\u001b[0m             \u001b[0mself\u001b[0m\u001b[0;34m.\u001b[0m\u001b[0m_parent_header\u001b[0m\u001b[0;34m,\u001b[0m\u001b[0;34m\u001b[0m\u001b[0;34m\u001b[0m\u001b[0m\n",
            "\u001b[0;32m/usr/local/lib/python3.10/dist-packages/ipykernel/kernelbase.py\u001b[0m in \u001b[0;36m_input_request\u001b[0;34m(self, prompt, ident, parent, password)\u001b[0m\n\u001b[1;32m    893\u001b[0m             \u001b[0;32mexcept\u001b[0m \u001b[0mKeyboardInterrupt\u001b[0m\u001b[0;34m:\u001b[0m\u001b[0;34m\u001b[0m\u001b[0;34m\u001b[0m\u001b[0m\n\u001b[1;32m    894\u001b[0m                 \u001b[0;31m# re-raise KeyboardInterrupt, to truncate traceback\u001b[0m\u001b[0;34m\u001b[0m\u001b[0;34m\u001b[0m\u001b[0m\n\u001b[0;32m--> 895\u001b[0;31m                 \u001b[0;32mraise\u001b[0m \u001b[0mKeyboardInterrupt\u001b[0m\u001b[0;34m(\u001b[0m\u001b[0;34m\"Interrupted by user\"\u001b[0m\u001b[0;34m)\u001b[0m \u001b[0;32mfrom\u001b[0m \u001b[0;32mNone\u001b[0m\u001b[0;34m\u001b[0m\u001b[0;34m\u001b[0m\u001b[0m\n\u001b[0m\u001b[1;32m    896\u001b[0m             \u001b[0;32mexcept\u001b[0m \u001b[0mException\u001b[0m \u001b[0;32mas\u001b[0m \u001b[0me\u001b[0m\u001b[0;34m:\u001b[0m\u001b[0;34m\u001b[0m\u001b[0;34m\u001b[0m\u001b[0m\n\u001b[1;32m    897\u001b[0m                 \u001b[0mself\u001b[0m\u001b[0;34m.\u001b[0m\u001b[0mlog\u001b[0m\u001b[0;34m.\u001b[0m\u001b[0mwarning\u001b[0m\u001b[0;34m(\u001b[0m\u001b[0;34m\"Invalid Message:\"\u001b[0m\u001b[0;34m,\u001b[0m \u001b[0mexc_info\u001b[0m\u001b[0;34m=\u001b[0m\u001b[0;32mTrue\u001b[0m\u001b[0;34m)\u001b[0m\u001b[0;34m\u001b[0m\u001b[0;34m\u001b[0m\u001b[0m\n",
            "\u001b[0;31mKeyboardInterrupt\u001b[0m: Interrupted by user"
          ]
        }
      ]
    }
  ]
}